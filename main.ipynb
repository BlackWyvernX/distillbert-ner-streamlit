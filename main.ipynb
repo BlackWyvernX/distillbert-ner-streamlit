{
 "cells": [
  {
   "cell_type": "markdown",
   "id": "441c6d51",
   "metadata": {},
   "source": [
    "## Imports"
   ]
  },
  {
   "cell_type": "code",
   "execution_count": null,
   "id": "8484a301",
   "metadata": {},
   "outputs": [],
   "source": [
    "# This is a Named Entity Recognition (NER) project using two methods:\n",
    "# Using DistilBERT model from Hugging Face transformers library.\n",
    "# The code loads and preprocesses data, trains a NER model, evaluates its performance, and saves the trained model for future use.\n",
    "# The dataset used is CoNLL-2003."
   ]
  },
  {
   "cell_type": "code",
   "execution_count": null,
   "id": "70d202df",
   "metadata": {},
   "outputs": [
    {
     "name": "stderr",
     "output_type": "stream",
     "text": [
      "c:\\Users\\mrdoo\\miniconda3\\envs\\nlp\\Lib\\site-packages\\tqdm\\auto.py:21: TqdmWarning: IProgress not found. Please update jupyter and ipywidgets. See https://ipywidgets.readthedocs.io/en/stable/user_install.html\n",
      "  from .autonotebook import tqdm as notebook_tqdm\n"
     ]
    }
   ],
   "source": [
    "import numpy as np\n",
    "\n",
    "from datasets import load_dataset\n",
    "from transformers import AutoTokenizer, AutoModelForTokenClassification, TrainingArguments, Trainer, DataCollatorForTokenClassification, EarlyStoppingCallback\n",
    "from evaluate import load"
   ]
  },
  {
   "cell_type": "markdown",
   "id": "36a9cb4f",
   "metadata": {},
   "source": [
    "## Load and check Data"
   ]
  },
  {
   "cell_type": "code",
   "execution_count": 3,
   "id": "f8dc5de5",
   "metadata": {},
   "outputs": [],
   "source": [
    "raw_datasets = load_dataset(\"eriktks/conll2003\",revision=\"convert/parquet\")"
   ]
  },
  {
   "cell_type": "code",
   "execution_count": 4,
   "id": "11d256d9",
   "metadata": {},
   "outputs": [
    {
     "name": "stdout",
     "output_type": "stream",
     "text": [
      "Dataset keys: dict_keys(['train', 'validation', 'test'])\n",
      "Train set size: 14041\n",
      "Validation set size: 3250\n",
      "Test set size: 3453\n",
      "\n",
      "First example from train set:\n",
      "{'id': '0', 'tokens': ['EU', 'rejects', 'German', 'call', 'to', 'boycott', 'British', 'lamb', '.'], 'pos_tags': [22, 42, 16, 21, 35, 37, 16, 21, 7], 'chunk_tags': [11, 21, 11, 12, 21, 22, 11, 12, 0], 'ner_tags': [3, 0, 7, 0, 0, 0, 7, 0, 0]}\n"
     ]
    }
   ],
   "source": [
    "# Quick dataset checks\n",
    "print(\"Dataset keys:\", raw_datasets.keys())\n",
    "print(\"Train set size:\", len(raw_datasets['train']))\n",
    "print(\"Validation set size:\", len(raw_datasets['validation']))\n",
    "print(\"Test set size:\", len(raw_datasets['test']))\n",
    "print(\"\\nFirst example from train set:\")\n",
    "print(raw_datasets['train'][0])"
   ]
  },
  {
   "cell_type": "code",
   "execution_count": 5,
   "id": "f96f9109",
   "metadata": {},
   "outputs": [],
   "source": [
    "label_names = raw_datasets[\"train\"].features[\"ner_tags\"].feature.names\n",
    "id2label = {i: label for i, label in enumerate(label_names)}\n",
    "label2id = {label: i for i, label in enumerate(label_names)}"
   ]
  },
  {
   "cell_type": "markdown",
   "id": "7f08a5cd",
   "metadata": {},
   "source": [
    "## Load and define DistilBert"
   ]
  },
  {
   "cell_type": "code",
   "execution_count": 6,
   "id": "ce2cc2db",
   "metadata": {},
   "outputs": [],
   "source": [
    "# Train DistilBERT NER model\n",
    "\n",
    "model_name = \"distilbert-base-uncased\"\n",
    "tokenizer = AutoTokenizer.from_pretrained(model_name)"
   ]
  },
  {
   "cell_type": "code",
   "execution_count": 7,
   "id": "313a3f81",
   "metadata": {},
   "outputs": [
    {
     "name": "stderr",
     "output_type": "stream",
     "text": [
      "Map: 100%|██████████| 3453/3453 [00:00<00:00, 4026.64 examples/s]\n"
     ]
    }
   ],
   "source": [
    "def tokenize_align_labels(examples):\n",
    "    inputs_tokenized = tokenizer(examples[\"tokens\"], truncation=True, is_split_into_words=True)\n",
    "\n",
    "    labels = []\n",
    "\n",
    "    for i, l in enumerate(examples[f\"ner_tags\"]):\n",
    "        w_ids = inputs_tokenized.word_ids(batch_index=i)\n",
    "        prev_w_idx = None\n",
    "        l_ids = []\n",
    "        for w_idx in w_ids:\n",
    "            if w_idx is None:\n",
    "                l_ids.append(-100)\n",
    "            elif w_idx != prev_w_idx:\n",
    "                l_ids.append(l[w_idx])\n",
    "            else:\n",
    "                l_ids.append(-100)\n",
    "            prev_w_idx = w_idx\n",
    "\n",
    "        labels.append(l_ids)\n",
    "\n",
    "    inputs_tokenized[\"labels\"] = labels\n",
    "    return inputs_tokenized\n",
    "\n",
    "tokenized_datasets = raw_datasets.map(tokenize_align_labels, batched=True)"
   ]
  },
  {
   "cell_type": "code",
   "execution_count": 8,
   "id": "782d7327",
   "metadata": {},
   "outputs": [
    {
     "name": "stderr",
     "output_type": "stream",
     "text": [
      "Some weights of DistilBertForTokenClassification were not initialized from the model checkpoint at distilbert-base-uncased and are newly initialized: ['classifier.bias', 'classifier.weight']\n",
      "You should probably TRAIN this model on a down-stream task to be able to use it for predictions and inference.\n"
     ]
    }
   ],
   "source": [
    "model = AutoModelForTokenClassification.from_pretrained(model_name, num_labels=len(label_names), id2label=id2label, label2id=label2id)  # 9 is the number of unique NER tags"
   ]
  },
  {
   "cell_type": "markdown",
   "id": "94633c57",
   "metadata": {},
   "source": [
    "## Model evaluate metrics"
   ]
  },
  {
   "cell_type": "code",
   "execution_count": 9,
   "id": "87b97450",
   "metadata": {},
   "outputs": [],
   "source": [
    "seqeval = load(\"seqeval\")\n",
    "\n",
    "def compute_metrics(p):\n",
    "    preds, labels = p\n",
    "    preds = np.argmax(preds, axis=2)\n",
    "\n",
    "    true_preds = [[label_names[p] for (p, l) in zip(pred, label) if l != -100] for pred, label in zip(preds, labels)]\n",
    "    true_labels = [[label_names[l] for l in label if l != -100] for label in labels]\n",
    "\n",
    "    results = seqeval.compute(predictions=true_preds, references=true_labels)\n",
    "\n",
    "    return {\n",
    "        \"accuracy\": results[\"overall_accuracy\"],\n",
    "        \"f1\": results[\"overall_f1\"],\n",
    "        \"precision\": results[\"overall_precision\"],\n",
    "        \"recall\": results[\"overall_recall\"],\n",
    "    }"
   ]
  },
  {
   "cell_type": "markdown",
   "id": "5161bb6f",
   "metadata": {},
   "source": [
    "## Training args and Run"
   ]
  },
  {
   "cell_type": "code",
   "execution_count": 10,
   "id": "279c785e",
   "metadata": {},
   "outputs": [],
   "source": [
    "training_args = TrainingArguments(\n",
    "    output_dir=\"./results\",\n",
    "    eval_strategy=\"epoch\",\n",
    "    learning_rate=2e-5,\n",
    "    per_device_train_batch_size=16,\n",
    "    per_device_eval_batch_size=16,\n",
    "    num_train_epochs=3,\n",
    "    weight_decay=0.01,\n",
    "    logging_dir='./logs',\n",
    "    logging_steps=100,\n",
    "    save_strategy=\"epoch\",\n",
    "    load_best_model_at_end=True,\n",
    "    metric_for_best_model=\"f1\",\n",
    "    greater_is_better=True,\n",
    "    fp16=True, # Enable mixed precision training if GPU is available\n",
    ")\n",
    "\n",
    "data_collator = DataCollatorForTokenClassification(tokenizer=tokenizer)\n",
    "\n",
    "# Stop training if no improvement in eval metrics for 3 consecutive evaluations\n",
    "early_stopping = EarlyStoppingCallback(\n",
    "    early_stopping_patience=3,\n",
    "    early_stopping_threshold=0.01\n",
    ")\n",
    "\n",
    "trainer = Trainer(\n",
    "    model=model,\n",
    "    args=training_args,\n",
    "    train_dataset=tokenized_datasets[\"train\"],\n",
    "    eval_dataset=tokenized_datasets[\"validation\"],\n",
    "    processing_class=tokenizer,\n",
    "    data_collator=data_collator,\n",
    "    compute_metrics=compute_metrics,\n",
    "    callbacks=[early_stopping]\n",
    ")"
   ]
  },
  {
   "cell_type": "code",
   "execution_count": 11,
   "id": "5550aa7f",
   "metadata": {},
   "outputs": [
    {
     "name": "stderr",
     "output_type": "stream",
     "text": [
      "c:\\Users\\mrdoo\\miniconda3\\envs\\nlp\\Lib\\site-packages\\torch\\utils\\data\\dataloader.py:666: UserWarning: 'pin_memory' argument is set as true but no accelerator is found, then device pinned memory won't be used.\n",
      "  warnings.warn(warn_msg)\n"
     ]
    },
    {
     "data": {
      "text/html": [
       "\n",
       "    <div>\n",
       "      \n",
       "      <progress value='2634' max='2634' style='width:300px; height:20px; vertical-align: middle;'></progress>\n",
       "      [2634/2634 48:24, Epoch 3/3]\n",
       "    </div>\n",
       "    <table border=\"1\" class=\"dataframe\">\n",
       "  <thead>\n",
       " <tr style=\"text-align: left;\">\n",
       "      <th>Epoch</th>\n",
       "      <th>Training Loss</th>\n",
       "      <th>Validation Loss</th>\n",
       "      <th>Accuracy</th>\n",
       "      <th>F1</th>\n",
       "      <th>Precision</th>\n",
       "      <th>Recall</th>\n",
       "    </tr>\n",
       "  </thead>\n",
       "  <tbody>\n",
       "    <tr>\n",
       "      <td>1</td>\n",
       "      <td>0.067100</td>\n",
       "      <td>0.053235</td>\n",
       "      <td>0.984346</td>\n",
       "      <td>0.918444</td>\n",
       "      <td>0.913022</td>\n",
       "      <td>0.923931</td>\n",
       "    </tr>\n",
       "    <tr>\n",
       "      <td>2</td>\n",
       "      <td>0.037700</td>\n",
       "      <td>0.049996</td>\n",
       "      <td>0.986994</td>\n",
       "      <td>0.935441</td>\n",
       "      <td>0.929688</td>\n",
       "      <td>0.941266</td>\n",
       "    </tr>\n",
       "    <tr>\n",
       "      <td>3</td>\n",
       "      <td>0.022800</td>\n",
       "      <td>0.050653</td>\n",
       "      <td>0.987286</td>\n",
       "      <td>0.935665</td>\n",
       "      <td>0.930294</td>\n",
       "      <td>0.941097</td>\n",
       "    </tr>\n",
       "  </tbody>\n",
       "</table><p>"
      ],
      "text/plain": [
       "<IPython.core.display.HTML object>"
      ]
     },
     "metadata": {},
     "output_type": "display_data"
    },
    {
     "name": "stderr",
     "output_type": "stream",
     "text": [
      "c:\\Users\\mrdoo\\miniconda3\\envs\\nlp\\Lib\\site-packages\\torch\\utils\\data\\dataloader.py:666: UserWarning: 'pin_memory' argument is set as true but no accelerator is found, then device pinned memory won't be used.\n",
      "  warnings.warn(warn_msg)\n",
      "c:\\Users\\mrdoo\\miniconda3\\envs\\nlp\\Lib\\site-packages\\torch\\utils\\data\\dataloader.py:666: UserWarning: 'pin_memory' argument is set as true but no accelerator is found, then device pinned memory won't be used.\n",
      "  warnings.warn(warn_msg)\n"
     ]
    },
    {
     "data": {
      "text/plain": [
       "TrainOutput(global_step=2634, training_loss=0.06830440229688889, metrics={'train_runtime': 2907.4145, 'train_samples_per_second': 14.488, 'train_steps_per_second': 0.906, 'total_flos': 510122266253334.0, 'train_loss': 0.06830440229688889, 'epoch': 3.0})"
      ]
     },
     "execution_count": 11,
     "metadata": {},
     "output_type": "execute_result"
    }
   ],
   "source": [
    "trainer.train()"
   ]
  },
  {
   "cell_type": "markdown",
   "id": "59910f60",
   "metadata": {},
   "source": [
    "## Load the model and test"
   ]
  },
  {
   "cell_type": "code",
   "execution_count": 5,
   "id": "0629aeb8",
   "metadata": {},
   "outputs": [],
   "source": [
    "# Load the trained model and tokenizer for inference\n",
    "model_path = \"./results/checkpoint/\"\n",
    "tokenizer = AutoTokenizer.from_pretrained(model_path)\n",
    "model = AutoModelForTokenClassification.from_pretrained(model_path)"
   ]
  },
  {
   "cell_type": "code",
   "execution_count": 6,
   "id": "c38f35e4",
   "metadata": {},
   "outputs": [],
   "source": [
    "# Inference function\n",
    "def ner_inference(text):\n",
    "    inputs = tokenizer(text, return_tensors=\"pt\")\n",
    "    outputs = model(**inputs)\n",
    "    predictions = np.argmax(outputs.logits.detach().numpy(), axis=2)\n",
    "\n",
    "    tokens = tokenizer.convert_ids_to_tokens(inputs[\"input_ids\"][0])\n",
    "    predicted_labels = [model.config.id2label[pred] for pred in predictions[0]]\n",
    "\n",
    "    ner_results = []\n",
    "    for token, label in zip(tokens, predicted_labels):\n",
    "        if label != \"O\":\n",
    "            ner_results.append((token, label))\n",
    "\n",
    "    return ner_results\n",
    "\n",
    "# Example usage\n",
    "sample_text = \"Hugging Face Inc. is a company based in New York City. Its headquarters are in DUMBO, therefore very close to the Manhattan Bridge.\"\n",
    "ner_results = ner_inference(sample_text)"
   ]
  },
  {
   "cell_type": "code",
   "execution_count": 7,
   "id": "fb3debaa",
   "metadata": {},
   "outputs": [
    {
     "data": {
      "text/plain": [
       "[('hugging', 'B-ORG'),\n",
       " ('face', 'I-ORG'),\n",
       " ('inc', 'I-ORG'),\n",
       " ('new', 'B-LOC'),\n",
       " ('york', 'I-LOC'),\n",
       " ('city', 'I-LOC'),\n",
       " ('dumb', 'B-LOC'),\n",
       " ('##o', 'I-LOC'),\n",
       " ('manhattan', 'B-LOC'),\n",
       " ('bridge', 'I-LOC')]"
      ]
     },
     "execution_count": 7,
     "metadata": {},
     "output_type": "execute_result"
    }
   ],
   "source": [
    "ner_results"
   ]
  },
  {
   "cell_type": "code",
   "execution_count": null,
   "id": "185156c8",
   "metadata": {},
   "outputs": [],
   "source": []
  }
 ],
 "metadata": {
  "kernelspec": {
   "display_name": "nlp",
   "language": "python",
   "name": "python3"
  },
  "language_info": {
   "codemirror_mode": {
    "name": "ipython",
    "version": 3
   },
   "file_extension": ".py",
   "mimetype": "text/x-python",
   "name": "python",
   "nbconvert_exporter": "python",
   "pygments_lexer": "ipython3",
   "version": "3.11.13"
  }
 },
 "nbformat": 4,
 "nbformat_minor": 5
}
